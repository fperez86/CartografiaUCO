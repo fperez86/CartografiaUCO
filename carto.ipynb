library(leaflet) 
m <- leaflet() %>%
  addTiles() %>%  # Add default OpenStreetMap map tiles
  addMarkers(lng=-4.11, lat=37.52, popup="The birthplace of R")
m  # Print the map

leaflet() %>% addTiles() %>% setView(-4.11, 37.4, zoom = 15) %>%
  addWMSTiles(
    "https://www.ign.es/wms-inspire/ign-base",
    layers = "IGNBaseOrto",
    options = WMSTileOptions(format = "image/png", transparent = TRUE),
    attribution = "Weather data © 2012 IEM Nexrad"
  )
