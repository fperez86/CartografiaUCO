library(leaflet) 
m <- leaflet() %>%
  addTiles() %>%  # Add default OpenStreetMap map tiles
  addMarkers(lng=-4.11, lat=37.52, popup="The birthplace of R")
m  # Print the map
